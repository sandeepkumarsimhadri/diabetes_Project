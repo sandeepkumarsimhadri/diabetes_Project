{
 "cells": [
  {
   "cell_type": "code",
   "execution_count": 15,
   "id": "f28929a2",
   "metadata": {},
   "outputs": [
    {
     "data": {
      "text/plain": [
       "Pregnancies                 0\n",
       "Glucose                     0\n",
       "BloodPressure               0\n",
       "SkinThickness               0\n",
       "Insulin                     0\n",
       "BMI                         0\n",
       "DiabetesPedigreeFunction    0\n",
       "Age                         0\n",
       "dtype: int64"
      ]
     },
     "execution_count": 15,
     "metadata": {},
     "output_type": "execute_result"
    }
   ],
   "source": [
    "import pandas as pd\n",
    "import matplotlib.pyplot as plt\n",
    "di_df=pd.read_csv('diabetes.csv')\n",
    "y=di_df['Outcome']\n",
    "di_df.drop(columns='Outcome',inplace=True)\n",
    "\n",
    "len([col for col in di_df.columns if di_df[col].dtype=='int64' or di_df[col].dtype=='float64'])\n",
    "di_df.isnull().sum()# there is no missing values and no catg columns so we have not done missing values  replace step and one hot encoding"
   ]
  },
  {
   "cell_type": "code",
   "execution_count": 16,
   "id": "9d93b5e5",
   "metadata": {},
   "outputs": [
    {
     "data": {
      "text/plain": [
       "0.8077987626180398"
      ]
     },
     "execution_count": 16,
     "metadata": {},
     "output_type": "execute_result"
    },
    {
     "data": {
      "image/png": "[encoded data removed]",
      "text/plain": [
       "<Figure size 432x288 with 1 Axes>"
      ]
     },
     "metadata": {
      "needs_background": "light"
     },
     "output_type": "display_data"
    }
   ],
   "source": [
    "from sklearn.model_selection import train_test_split\n",
    "from sklearn.linear_model import LogisticRegression\n",
    "import warnings\n",
    "warnings.filterwarnings('ignore')\n",
    "from sklearn.metrics import confusion_matrix,precision_score,recall_score,f1_score,roc_curve,roc_auc_score\n",
    "\n",
    "\n",
    "x_train,x_test,y_train,y_test=train_test_split(di_df,y,test_size=0.3,random_state=50)\n",
    "\n",
    "logreg=LogisticRegression()\n",
    "\n",
    "logreg.fit(x_train,y_train)\n",
    "\n",
    "y_test_pred=logreg.predict(x_test)\n",
    "\n",
    "a=pd.DataFrame( {'test_act':y_test,'test_pred':y_test_pred})\n",
    "\n",
    "confusion_matrix(y_test,y_test_pred)\n",
    "precision_score(y_test,y_test_pred)\n",
    "recall_score(y_test,y_test_pred)\n",
    "f1_score(y_test,y_test_pred)\n",
    "\n",
    "pos_probs=logreg.predict_proba(x_test)[::,1]\n",
    "\n",
    "fpr,tpr,threshold=roc_curve(y_test,pos_probs)\n",
    "fpr,tpr,threshold\n",
    "\n",
    "plt.plot(fpr,tpr)\n",
    "plt.xlabel('False Postive Rate')\n",
    "plt.ylabel('True Postive Rate')\n",
    "plt.title('AUC Curve')\n",
    "\n",
    "roc_auc_score(y_test,pos_probs)\n",
    "\n",
    "\n",
    "\n",
    "\n"
   ]
  }
 ],
 "metadata": {
  "kernelspec": {
   "display_name": "Python 3",
   "language": "python",
   "name": "python3"
  },
  "language_info": {
   "codemirror_mode": {
    "name": "ipython",
    "version": 3
   },
   "file_extension": ".py",
   "mimetype": "text/x-python",
   "name": "python",
   "nbconvert_exporter": "python",
   "pygments_lexer": "ipython3",
   "version": "3.8.8"
  }
 },
 "nbformat": 4,
 "nbformat_minor": 5
}
